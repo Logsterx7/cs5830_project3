{
 "cells": [
  {
   "cell_type": "code",
   "execution_count": null,
   "id": "79e598a2-0e0d-4892-ae85-5976a3eb7f21",
   "metadata": {},
   "outputs": [],
   "source": [
    "import requests , json\n",
    "import pandas as pd\n",
    "import seaborn as sb\n",
    "\n",
    "#Gotta catch 'em all\n",
    "\n",
    "## General format on how to get data\n",
    "\n",
    "##   response_API = requests.get('https://pokeapi.co/api/v2/pokemon?limit=100000&offset=0.')\n",
    "##   print(response_API)\n",
    "##   data = response_API.json()\n",
    "##   pokedata = data['results']\n",
    "##   display(pokedata)\n",
    "\n",
    "\n",
    "##--- Habitats and Pokemon ---\n",
    "habitats_response = requests.get('https://pokeapi.co/api/v2/pokemon-habitat')\n",
    "habitats_data = habitats_response.json()\n",
    "\n",
    "# Iterate through each habitat\n",
    "\n",
    "# Initialize lists to store habitat names and corresponding Pokémon names\n",
    "habitat_names = []\n",
    "pokemon_names = []\n",
    "\n",
    "for habitat in habitats_data['results']:\n",
    "    habitat_name = habitat['name']\n",
    "\n",
    "    # Make a request to fetch the list of Pokémon species in the current habitat\n",
    "    habitat_species_response = requests.get(habitat['url'])\n",
    "    habitat_species_data = habitat_species_response.json()\n",
    "    \n",
    "    # Iterate through each Pokémon species in the habitat and store name and habitat\n",
    "    for species in habitat_species_data['pokemon_species']:\n",
    "        habitat_names.append(habitat_name)\n",
    "        pokemon_names.append(species['name'])\n",
    "\n",
    "df = pd.DataFrame({'Habitat': habitat_names, 'Pokemon': pokemon_names})\n",
    "display(df)\n",
    "display(df.Habitat.unique())\n"
   ]
  },
  {
   "cell_type": "code",
   "execution_count": null,
   "id": "416ea5fa-7a9c-4ea9-82f0-b36be5751a94",
   "metadata": {},
   "outputs": [],
   "source": []
  }
 ],
 "metadata": {
  "kernelspec": {
   "display_name": "Python 3 (ipykernel)",
   "language": "python",
   "name": "python3"
  },
  "language_info": {
   "codemirror_mode": {
    "name": "ipython",
    "version": 3
   },
   "file_extension": ".py",
   "mimetype": "text/x-python",
   "name": "python",
   "nbconvert_exporter": "python",
   "pygments_lexer": "ipython3",
   "version": "3.9.7"
  }
 },
 "nbformat": 4,
 "nbformat_minor": 5
}
