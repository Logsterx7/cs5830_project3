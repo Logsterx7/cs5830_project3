{
 "cells": [
  {
   "cell_type": "code",
   "execution_count": null,
   "id": "79e598a2-0e0d-4892-ae85-5976a3eb7f21",
   "metadata": {},
   "outputs": [],
   "source": [
    "import requests , json\n",
    "import pandas as pd\n",
    "import seaborn as sb\n",
    "import matplotlib.pyplot as plt\n",
    "\n",
    "#Gotta catch 'em all\n",
    "##--- Pokemon API\n",
    "habitats_response = requests.get('https://pokeapi.co/api/v2/pokemon')\n"
   ]
  },
  {
   "cell_type": "code",
   "execution_count": null,
   "id": "416ea5fa-7a9c-4ea9-82f0-b36be5751a94",
   "metadata": {},
   "outputs": [],
   "source": [
    "df = pd.read_csv(\"kantos-pokemon.csv\")\n",
    "sb.countplot(data = df , y ='Habitat')\n",
    "plt.title(\"Kantos Pokemon Habitats\")"
   ]
  },
  {
   "cell_type": "code",
   "execution_count": null,
   "id": "8e9dfc5a-4c72-4f41-846c-412ab21c6392",
   "metadata": {},
   "outputs": [],
   "source": [
    "df = pd.read_csv(\"kantos-pokemon.csv\")\n",
    "sb.countplot(data = df , y ='Type_1')\n",
    "plt.title(\"Kantos Pokemon Type\")"
   ]
  },
  {
   "cell_type": "code",
   "execution_count": null,
   "id": "5f5ad17a-1341-4ff8-8e21-d2bc251e873d",
   "metadata": {},
   "outputs": [],
   "source": [
    "df = pd.read_csv(\"kantos-pokemon.csv\")\n",
    "sb.countplot(data = df , y ='Type_2')\n",
    "plt.title(\"Kantos Pokemon 2nd Type\")"
   ]
  }
 ],
 "metadata": {
  "kernelspec": {
   "display_name": "Python 3 (ipykernel)",
   "language": "python",
   "name": "python3"
  },
  "language_info": {
   "codemirror_mode": {
    "name": "ipython",
    "version": 3
   },
   "file_extension": ".py",
   "mimetype": "text/x-python",
   "name": "python",
   "nbconvert_exporter": "python",
   "pygments_lexer": "ipython3",
   "version": "3.12.0"
  }
 },
 "nbformat": 4,
 "nbformat_minor": 5
}
